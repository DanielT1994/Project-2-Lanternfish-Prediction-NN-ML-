{
 "cells": [
  {
   "cell_type": "code",
   "execution_count": 1,
   "id": "7df5853d",
   "metadata": {},
   "outputs": [],
   "source": [
    "#Importing Dependancies\n",
    "import pandas as pd\n",
    "import altair as alt\n",
    "%matplotlib inline\n",
    "import random\n",
    "from pathlib import Path\n",
    "import matplotlib.pyplot as plt\n",
    "from sklearn.linear_model import LinearRegression\n",
    "import numpy as np\n",
    "from tensorflow.keras.models import Sequential\n",
    "from tensorflow.keras.layers import LSTM, Dense, Dropout\n",
    "from sklearn.preprocessing import MinMaxScaler\n",
    "from sklearn.model_selection import train_test_split\n",
    "from sklearn.naive_bayes import GaussianNB"
   ]
  },
  {
   "cell_type": "markdown",
   "id": "e128c518",
   "metadata": {},
   "source": [
    "#### Algorithmic Solution, very slow, uses ~200GB RAM at day 255"
   ]
  },
  {
   "cell_type": "code",
   "execution_count": 2,
   "id": "3ae17d09",
   "metadata": {},
   "outputs": [
    {
     "name": "stdout",
     "output_type": "stream",
     "text": [
      "1\n",
      "2\n",
      "3\n",
      "4\n",
      "5\n",
      "6\n",
      "7\n",
      "8\n",
      "9\n",
      "10\n",
      "767\n"
     ]
    }
   ],
   "source": [
    "#Algorithmic Solution\n",
    "#THIS IS THE GIVEN DATA FROM THE PROBLEM\n",
    "#used to check \n",
    "lanterns= [1,3,3,4,5,1,1,1,1,1,1,2,1,4,1,1,1,5,2,2,4,3,1,1,2,5,4,2,2,3,1,2,3,2,1,1,4,4,2,4,4,1,2,4,3,3,3,1,1,3,4,5,2,5,1,2,5,1,1,1,3,2,3,3,1,4,1,1,4,1,4,1,1,1,1,5,4,2,1,2,2,5,5,1,1,1,1,2,1,1,1,1,3,2,3,1,4,3,1,1,3,1,1,1,1,3,3,4,5,1,1,5,4,4,4,4,2,5,1,1,2,5,1,3,4,4,1,4,1,5,5,2,4,5,1,1,3,1,3,1,4,1,3,1,2,2,1,5,1,5,1,3,1,3,1,4,1,4,5,1,4,5,1,1,5,2,2,4,5,1,3,2,4,2,1,1,1,2,1,2,1,3,4,4,2,2,4,2,1,4,1,3,1,3,5,3,1,1,2,2,1,5,2,1,1,1,1,1,5,4,3,5,3,3,1,5,5,4,4,2,1,1,1,2,5,3,3,2,1,1,1,5,5,3,1,4,4,2,4,2,1,1,1,5,1,2,4,1,3,4,4,2,1,4,2,1,3,4,3,3,2,3,1,5,3,1,1,5,1,2,2,4,4,1,2,3,1,2,1,1,2,1,1,1,2,3,5,5,1,2,3,1,3,5,4,2,1,3,3,4]\n",
    "days = 0\n",
    "list_days = []\n",
    "for lantern in lanterns:\n",
    "    while days < 10:\n",
    "        #input days you want here max 150\n",
    "        if 0 in lanterns:\n",
    "            indices = []\n",
    "            for i in range(len(lanterns)):\n",
    "                if lanterns[i] == 0:\n",
    "                    indices.append(i)\n",
    "            lanterns = list(map(lambda lantern : lantern -1, lanterns))\n",
    "            for index in indices:\n",
    "                lanterns[index] = 6\n",
    "                lanterns.append(8)\n",
    "                    \n",
    "        else:\n",
    "            lanterns = list(map(lambda lantern : lantern -1, lanterns))\n",
    "        list_days.append(len(lanterns))\n",
    "        days +=1\n",
    "        print (days)\n",
    "    \n",
    "print (len(lanterns))    \n",
    "\n",
    "                \n",
    "     "
   ]
  },
  {
   "cell_type": "markdown",
   "id": "e6a3b3db",
   "metadata": {},
   "source": [
    "#### Loop Unravelled Value Tracking Method, tracks values rather than the whole list at a time"
   ]
  },
  {
   "cell_type": "code",
   "execution_count": 3,
   "id": "8f2a6a23",
   "metadata": {},
   "outputs": [
    {
     "name": "stdout",
     "output_type": "stream",
     "text": [
      "0\n",
      "1\n",
      "2\n",
      "3\n",
      "4\n",
      "5\n",
      "6\n",
      "7\n",
      "8\n",
      "9\n",
      "767\n"
     ]
    }
   ],
   "source": [
    "# Value Tracking Method\n",
    "#SAME GIVEN DATA FROM PROBLEM\n",
    "#faster method tracks values rather than the entire list starts at day 0 and not 1\n",
    "lanterns = [1,3,3,4,5,1,1,1,1,1,1,2,1,4,1,1,1,5,2,2,4,3,1,1,2,5,4,2,2,3,1,2,3,2,1,1,4,4,2,4,4,1,2,4,3,3,3,1,1,3,4,5,2,5,1,2,5,1,1,1,3,2,3,3,1,4,1,1,4,1,4,1,1,1,1,5,4,2,1,2,2,5,5,1,1,1,1,2,1,1,1,1,3,2,3,1,4,3,1,1,3,1,1,1,1,3,3,4,5,1,1,5,4,4,4,4,2,5,1,1,2,5,1,3,4,4,1,4,1,5,5,2,4,5,1,1,3,1,3,1,4,1,3,1,2,2,1,5,1,5,1,3,1,3,1,4,1,4,5,1,4,5,1,1,5,2,2,4,5,1,3,2,4,2,1,1,1,2,1,2,1,3,4,4,2,2,4,2,1,4,1,3,1,3,5,3,1,1,2,2,1,5,2,1,1,1,1,1,5,4,3,5,3,3,1,5,5,4,4,2,1,1,1,2,5,3,3,2,1,1,1,5,5,3,1,4,4,2,4,2,1,1,1,5,1,2,4,1,3,4,4,2,1,4,2,1,3,4,3,3,2,3,1,5,3,1,1,5,1,2,2,4,4,1,2,3,1,2,1,1,2,1,1,1,2,3,5,5,1,2,3,1,3,5,4,2,1,3,3,4]\n",
    "count_0 = lanterns.count(0)\n",
    "count_1 = lanterns.count(1)\n",
    "count_2 = lanterns.count(2)\n",
    "count_3 = lanterns.count(3)\n",
    "count_4 = lanterns.count(4)\n",
    "count_5 = lanterns.count(5)\n",
    "count_6 = lanterns.count(6)\n",
    "count_7 = lanterns.count(7)\n",
    "count_8 = lanterns.count(8)\n",
    "for x in range (0,10):\n",
    "    #subtract 1 from each \n",
    "    temp = count_0\n",
    "    count_0 = count_1\n",
    "    count_1 = count_2\n",
    "    count_2 = count_3\n",
    "    count_3 = count_4\n",
    "    count_4 = count_5\n",
    "    count_5 = count_6\n",
    "    count_6 = count_7\n",
    "    count_7 = count_8\n",
    "    count_8 = temp\n",
    "    count_6 += temp\n",
    "    print (x)\n",
    "print (count_0 + count_1 + count_2 + count_3 + count_4 + count_5 + count_6 + count_7 + count_8)        \n",
    "    \n",
    "\n",
    "        "
   ]
  },
  {
   "cell_type": "markdown",
   "id": "23dbabb9",
   "metadata": {},
   "source": [
    "#### Project Generation\n"
   ]
  },
  {
   "cell_type": "code",
   "execution_count": 4,
   "id": "95d73978",
   "metadata": {},
   "outputs": [
    {
     "name": "stdin",
     "output_type": "stream",
     "text": [
      "Please enter the number of elements you would like to simulate 400\n"
     ]
    },
    {
     "name": "stdout",
     "output_type": "stream",
     "text": [
      "your values are [4, 5, 4, 6, 4, 2, 6, 1, 6, 5, 3, 3, 0, 3, 3, 1, 3, 2, 5, 5, 5, 4, 5, 5, 5, 2, 0, 2, 3, 0, 5, 5, 1, 2, 2, 1, 0, 1, 0, 3, 4, 6, 5, 0, 6, 0, 0, 3, 2, 4, 3, 2, 1, 2, 6, 6, 6, 5, 0, 5, 1, 3, 0, 2, 0, 2, 1, 4, 0, 0, 2, 6, 3, 4, 1, 1, 2, 4, 4, 5, 1, 2, 2, 0, 2, 5, 5, 3, 6, 2, 3, 4, 6, 3, 3, 4, 0, 0, 3, 1, 6, 0, 0, 0, 5, 0, 0, 0, 6, 0, 4, 2, 6, 4, 1, 3, 5, 0, 5, 3, 1, 4, 4, 0, 1, 0, 5, 4, 3, 3, 1, 3, 1, 0, 2, 2, 0, 0, 0, 2, 6, 4, 2, 6, 3, 0, 0, 2, 6, 0, 6, 6, 4, 3, 5, 4, 2, 0, 2, 3, 1, 5, 0, 0, 6, 4, 4, 6, 1, 3, 1, 4, 6, 3, 4, 3, 0, 0, 4, 2, 4, 3, 2, 3, 1, 6, 2, 1, 1, 6, 3, 3, 2, 0, 1, 3, 0, 3, 6, 6, 0, 3, 3, 4, 3, 2, 6, 2, 4, 6, 5, 1, 2, 3, 2, 0, 4, 5, 6, 6, 0, 5, 1, 0, 4, 1, 4, 6, 4, 1, 5, 1, 5, 4, 0, 4, 6, 0, 0, 2, 1, 0, 3, 4, 5, 3, 2, 0, 4, 4, 0, 0, 3, 0, 2, 1, 0, 0, 4, 5, 5, 1, 4, 2, 5, 5, 0, 2, 0, 3, 6, 4, 4, 0, 1, 0, 0, 0, 0, 6, 4, 4, 4, 0, 2, 5, 1, 5, 3, 2, 0, 6, 6, 6, 1, 3, 0, 5, 4, 0, 1, 3, 5, 4, 6, 4, 0, 2, 2, 5, 3, 1, 4, 4, 0, 4, 4, 1, 2, 6, 3, 5, 2, 1, 2, 0, 2, 1, 6, 4, 4, 3, 3, 3, 3, 1, 4, 3, 3, 3, 5, 4, 4, 6, 1, 4, 4, 4, 4, 4, 0, 0, 3, 0, 2, 0, 3, 2, 4, 1, 5, 2, 5, 4, 4, 6, 3, 0, 0, 6, 5, 0, 3, 2, 0, 6, 5, 1, 6, 4, 3, 2, 6, 4, 4, 3, 1, 5, 3, 2, 3, 6, 4, 4, 6, 6, 5, 4, 0, 6] with 400 elements\n"
     ]
    },
    {
     "name": "stdin",
     "output_type": "stream",
     "text": [
      "Please enter the number of days you would like to simulate 280\n"
     ]
    },
    {
     "name": "stdout",
     "output_type": "stream",
     "text": [
      "generating solution for 400 fish in 280 days\n"
     ]
    }
   ],
   "source": [
    "input_elements = input (\"Please enter the number of elements you would like to simulate\")\n",
    "random_list = []\n",
    "x = int(input_elements)\n",
    "for i in range (0,x):\n",
    "    num = random.randint(0,6)\n",
    "    random_list.append(num)\n",
    "lanterns = random_list\n",
    "print (f\"your values are {random_list} with {len(lanterns)} elements\")\n",
    "input_days = input (\"Please enter the number of days you would like to simulate\")\n",
    "day_input = int(input_days)\n",
    "print (f\"generating solution for {len(lanterns)} fish in {day_input} days\")\n",
    "        \n"
   ]
  },
  {
   "cell_type": "code",
   "execution_count": 5,
   "id": "3643edce",
   "metadata": {},
   "outputs": [
    {
     "data": {
      "text/plain": [
       "'\\ninput_days = input (\"Please enter the number of days you would like to simulate\")\\nday_input = int(input_days)\\nprint (f\"generating solution for {len(lanterns)} fish in {day_input} days\")\\ndays = 0\\nlist_days = []\\nfor lantern in lanterns:\\n    while days < day_input:\\n        if 0 in lanterns:\\n            indices = []\\n            for i in range(len(lanterns)):\\n                if lanterns[i] == 0:\\n                    indices.append(i)\\n            lanterns = list(map(lambda lantern : lantern -1, lanterns))\\n            for index in indices:\\n                    lanterns[index] = 6\\n                    lanterns.append(8)\\n        else:\\n            lanterns = list(map(lambda lantern : lantern -1, lanterns))\\n        list_days.append(len(lanterns))\\n        days += 1\\n        print (f\"calculating day {days}\")\\nprint (f\"the total amount of fish on day {day_input} is {len(lanterns)}\")\\nday_list = []\\nfor x in range(1,day_input):\\n    day_list.append(x)\\n    df_algo = pd.DataFrame(list_days)\\n    df_algo[\"Values\"] = list_days\\n    df_algo.reset_index(inplace = True)\\n    df_algo.drop(df_algo.columns[1], axis = 1, inplace = True)\\n    df_algo.set_index(\"index\", inplace = True)\\ndf_algo.head()\\n'"
      ]
     },
     "execution_count": 5,
     "metadata": {},
     "output_type": "execute_result"
    }
   ],
   "source": [
    "#returns panda generated by algo, used for solutions with less than 100 days\n",
    "\"\"\"\n",
    "input_days = input (\"Please enter the number of days you would like to simulate\")\n",
    "day_input = int(input_days)\n",
    "print (f\"generating solution for {len(lanterns)} fish in {day_input} days\")\n",
    "days = 0\n",
    "list_days = []\n",
    "for lantern in lanterns:\n",
    "    while days < day_input:\n",
    "        if 0 in lanterns:\n",
    "            indices = []\n",
    "            for i in range(len(lanterns)):\n",
    "                if lanterns[i] == 0:\n",
    "                    indices.append(i)\n",
    "            lanterns = list(map(lambda lantern : lantern -1, lanterns))\n",
    "            for index in indices:\n",
    "                    lanterns[index] = 6\n",
    "                    lanterns.append(8)\n",
    "        else:\n",
    "            lanterns = list(map(lambda lantern : lantern -1, lanterns))\n",
    "        list_days.append(len(lanterns))\n",
    "        days += 1\n",
    "        print (f\"calculating day {days}\")\n",
    "print (f\"the total amount of fish on day {day_input} is {len(lanterns)}\")\n",
    "day_list = []\n",
    "for x in range(1,day_input):\n",
    "    day_list.append(x)\n",
    "    df_algo = pd.DataFrame(list_days)\n",
    "    df_algo[\"Values\"] = list_days\n",
    "    df_algo.reset_index(inplace = True)\n",
    "    df_algo.drop(df_algo.columns[1], axis = 1, inplace = True)\n",
    "    df_algo.set_index(\"index\", inplace = True)\n",
    "df_algo.head()\n",
    "\"\"\"                 \n",
    "            \n",
    "                    \n",
    "        \n",
    "\n",
    "    \n",
    "    "
   ]
  },
  {
   "cell_type": "code",
   "execution_count": 6,
   "id": "047e40ac",
   "metadata": {},
   "outputs": [
    {
     "name": "stdout",
     "output_type": "stream",
     "text": [
      "generating solution for 400 fish in 280 days\n",
      "the total amount of fish on day 280 is 17280300607864\n"
     ]
    },
    {
     "data": {
      "text/html": [
       "<div>\n",
       "<style scoped>\n",
       "    .dataframe tbody tr th:only-of-type {\n",
       "        vertical-align: middle;\n",
       "    }\n",
       "\n",
       "    .dataframe tbody tr th {\n",
       "        vertical-align: top;\n",
       "    }\n",
       "\n",
       "    .dataframe thead th {\n",
       "        text-align: right;\n",
       "    }\n",
       "</style>\n",
       "<table border=\"1\" class=\"dataframe\">\n",
       "  <thead>\n",
       "    <tr style=\"text-align: right;\">\n",
       "      <th></th>\n",
       "      <th>Generated_Values</th>\n",
       "      <th>Generated_Increase</th>\n",
       "      <th>Lagged_Increase</th>\n",
       "    </tr>\n",
       "    <tr>\n",
       "      <th>index</th>\n",
       "      <th></th>\n",
       "      <th></th>\n",
       "      <th></th>\n",
       "    </tr>\n",
       "  </thead>\n",
       "  <tbody>\n",
       "    <tr>\n",
       "      <th>0</th>\n",
       "      <td>477</td>\n",
       "      <td>0.000000</td>\n",
       "      <td>0.000000</td>\n",
       "    </tr>\n",
       "    <tr>\n",
       "      <th>1</th>\n",
       "      <td>522</td>\n",
       "      <td>9.433962</td>\n",
       "      <td>0.000000</td>\n",
       "    </tr>\n",
       "    <tr>\n",
       "      <th>2</th>\n",
       "      <td>574</td>\n",
       "      <td>9.961686</td>\n",
       "      <td>9.433962</td>\n",
       "    </tr>\n",
       "    <tr>\n",
       "      <th>3</th>\n",
       "      <td>635</td>\n",
       "      <td>10.627178</td>\n",
       "      <td>9.961686</td>\n",
       "    </tr>\n",
       "    <tr>\n",
       "      <th>4</th>\n",
       "      <td>705</td>\n",
       "      <td>11.023622</td>\n",
       "      <td>10.627178</td>\n",
       "    </tr>\n",
       "  </tbody>\n",
       "</table>\n",
       "</div>"
      ],
      "text/plain": [
       "       Generated_Values  Generated_Increase  Lagged_Increase\n",
       "index                                                       \n",
       "0                   477            0.000000         0.000000\n",
       "1                   522            9.433962         0.000000\n",
       "2                   574            9.961686         9.433962\n",
       "3                   635           10.627178         9.961686\n",
       "4                   705           11.023622        10.627178"
      ]
     },
     "execution_count": 6,
     "metadata": {},
     "output_type": "execute_result"
    }
   ],
   "source": [
    "#use when day_input > 100\n",
    "\n",
    "print (f\"generating solution for {len(lanterns)} fish in {day_input} days\")\n",
    "value_days = []\n",
    "count_0 = lanterns.count(0)\n",
    "count_1 = lanterns.count(1)\n",
    "count_2 = lanterns.count(2)\n",
    "count_3 = lanterns.count(3)\n",
    "count_4 = lanterns.count(4)\n",
    "count_5 = lanterns.count(5)\n",
    "count_6 = lanterns.count(6)\n",
    "count_7 = lanterns.count(7)\n",
    "count_8 = lanterns.count(8)\n",
    "for x in range(0,day_input):\n",
    "    temp = count_0\n",
    "    count_0 = count_1\n",
    "    count_1 = count_2\n",
    "    count_2 = count_3\n",
    "    count_3 = count_4\n",
    "    count_4 = count_5\n",
    "    count_5 = count_6\n",
    "    count_6 = count_7\n",
    "    count_7 = count_8\n",
    "    count_8 = temp\n",
    "    count_6 += temp\n",
    "    sum_day = count_0 + count_1 + count_2 + count_3 + count_4 + count_5 + count_6 + count_7 + count_8\n",
    "    value_days.append(sum_day)\n",
    "print (f\"the total amount of fish on day {day_input} is {sum_day}\")\n",
    "df_test = pd.DataFrame(value_days)\n",
    "df_test[\"Generated_Values\"] = value_days\n",
    "df_test.reset_index(inplace = True)\n",
    "df_test.drop(df_test.columns[1], axis = 1, inplace = True)\n",
    "df_test.set_index(\"index\", inplace = True)\n",
    "df_test.head()\n",
    "df_test[\"Generated_Increase\"] = df_test.Generated_Values.pct_change() * 100\n",
    "df_test[\"Lagged_Increase\"] = df_test.Generated_Increase.shift()\n",
    "df_test.fillna(0,inplace = True)\n",
    "df_test.head()\n"
   ]
  },
  {
   "cell_type": "markdown",
   "id": "2697d392",
   "metadata": {},
   "source": [
    "#### Train Data Set"
   ]
  },
  {
   "cell_type": "code",
   "execution_count": 7,
   "id": "301b9ef2",
   "metadata": {},
   "outputs": [
    {
     "data": {
      "text/html": [
       "<div>\n",
       "<style scoped>\n",
       "    .dataframe tbody tr th:only-of-type {\n",
       "        vertical-align: middle;\n",
       "    }\n",
       "\n",
       "    .dataframe tbody tr th {\n",
       "        vertical-align: top;\n",
       "    }\n",
       "\n",
       "    .dataframe thead th {\n",
       "        text-align: right;\n",
       "    }\n",
       "</style>\n",
       "<table border=\"1\" class=\"dataframe\">\n",
       "  <thead>\n",
       "    <tr style=\"text-align: right;\">\n",
       "      <th></th>\n",
       "      <th>Values</th>\n",
       "    </tr>\n",
       "    <tr>\n",
       "      <th>index</th>\n",
       "      <th></th>\n",
       "    </tr>\n",
       "  </thead>\n",
       "  <tbody>\n",
       "    <tr>\n",
       "      <th>0</th>\n",
       "      <td>300</td>\n",
       "    </tr>\n",
       "    <tr>\n",
       "      <th>1</th>\n",
       "      <td>415</td>\n",
       "    </tr>\n",
       "    <tr>\n",
       "      <th>2</th>\n",
       "      <td>467</td>\n",
       "    </tr>\n",
       "    <tr>\n",
       "      <th>3</th>\n",
       "      <td>514</td>\n",
       "    </tr>\n",
       "    <tr>\n",
       "      <th>4</th>\n",
       "      <td>563</td>\n",
       "    </tr>\n",
       "    <tr>\n",
       "      <th>5</th>\n",
       "      <td>600</td>\n",
       "    </tr>\n",
       "    <tr>\n",
       "      <th>6</th>\n",
       "      <td>600</td>\n",
       "    </tr>\n",
       "    <tr>\n",
       "      <th>7</th>\n",
       "      <td>600</td>\n",
       "    </tr>\n",
       "    <tr>\n",
       "      <th>8</th>\n",
       "      <td>715</td>\n",
       "    </tr>\n",
       "    <tr>\n",
       "      <th>9</th>\n",
       "      <td>767</td>\n",
       "    </tr>\n",
       "    <tr>\n",
       "      <th>10</th>\n",
       "      <td>929</td>\n",
       "    </tr>\n",
       "    <tr>\n",
       "      <th>11</th>\n",
       "      <td>1030</td>\n",
       "    </tr>\n",
       "    <tr>\n",
       "      <th>12</th>\n",
       "      <td>1114</td>\n",
       "    </tr>\n",
       "    <tr>\n",
       "      <th>13</th>\n",
       "      <td>1163</td>\n",
       "    </tr>\n",
       "    <tr>\n",
       "      <th>14</th>\n",
       "      <td>1200</td>\n",
       "    </tr>\n",
       "    <tr>\n",
       "      <th>15</th>\n",
       "      <td>1315</td>\n",
       "    </tr>\n",
       "    <tr>\n",
       "      <th>16</th>\n",
       "      <td>1367</td>\n",
       "    </tr>\n",
       "    <tr>\n",
       "      <th>17</th>\n",
       "      <td>1644</td>\n",
       "    </tr>\n",
       "    <tr>\n",
       "      <th>18</th>\n",
       "      <td>1797</td>\n",
       "    </tr>\n",
       "    <tr>\n",
       "      <th>19</th>\n",
       "      <td>2043</td>\n",
       "    </tr>\n",
       "    <tr>\n",
       "      <th>20</th>\n",
       "      <td>2193</td>\n",
       "    </tr>\n",
       "    <tr>\n",
       "      <th>21</th>\n",
       "      <td>2314</td>\n",
       "    </tr>\n",
       "    <tr>\n",
       "      <th>22</th>\n",
       "      <td>2478</td>\n",
       "    </tr>\n",
       "    <tr>\n",
       "      <th>23</th>\n",
       "      <td>2567</td>\n",
       "    </tr>\n",
       "    <tr>\n",
       "      <th>24</th>\n",
       "      <td>2959</td>\n",
       "    </tr>\n",
       "  </tbody>\n",
       "</table>\n",
       "</div>"
      ],
      "text/plain": [
       "      Values\n",
       "index       \n",
       "0        300\n",
       "1        415\n",
       "2        467\n",
       "3        514\n",
       "4        563\n",
       "5        600\n",
       "6        600\n",
       "7        600\n",
       "8        715\n",
       "9        767\n",
       "10       929\n",
       "11      1030\n",
       "12      1114\n",
       "13      1163\n",
       "14      1200\n",
       "15      1315\n",
       "16      1367\n",
       "17      1644\n",
       "18      1797\n",
       "19      2043\n",
       "20      2193\n",
       "21      2314\n",
       "22      2478\n",
       "23      2567\n",
       "24      2959"
      ]
     },
     "execution_count": 7,
     "metadata": {},
     "output_type": "execute_result"
    }
   ],
   "source": [
    "#### Generating train set data\n",
    "value_days = []\n",
    "lanterns = [1,3,3,4,5,1,1,1,1,1,1,2,1,4,1,1,1,5,2,2,4,3,1,1,2,5,4,2,2,3,1,2,3,2,1,1,4,4,2,4,4,1,2,4,3,3,3,1,1,3,4,5,2,5,1,2,5,1,1,1,3,2,3,3,1,4,1,1,4,1,4,1,1,1,1,5,4,2,1,2,2,5,5,1,1,1,1,2,1,1,1,1,3,2,3,1,4,3,1,1,3,1,1,1,1,3,3,4,5,1,1,5,4,4,4,4,2,5,1,1,2,5,1,3,4,4,1,4,1,5,5,2,4,5,1,1,3,1,3,1,4,1,3,1,2,2,1,5,1,5,1,3,1,3,1,4,1,4,5,1,4,5,1,1,5,2,2,4,5,1,3,2,4,2,1,1,1,2,1,2,1,3,4,4,2,2,4,2,1,4,1,3,1,3,5,3,1,1,2,2,1,5,2,1,1,1,1,1,5,4,3,5,3,3,1,5,5,4,4,2,1,1,1,2,5,3,3,2,1,1,1,5,5,3,1,4,4,2,4,2,1,1,1,5,1,2,4,1,3,4,4,2,1,4,2,1,3,4,3,3,2,3,1,5,3,1,1,5,1,2,2,4,4,1,2,3,1,2,1,1,2,1,1,1,2,3,5,5,1,2,3,1,3,5,4,2,1,3,3,4]\n",
    "count_0 = lanterns.count(0)\n",
    "count_1 = lanterns.count(1)\n",
    "count_2 = lanterns.count(2)\n",
    "count_3 = lanterns.count(3)\n",
    "count_4 = lanterns.count(4)\n",
    "count_5 = lanterns.count(5)\n",
    "count_6 = lanterns.count(6)\n",
    "count_7 = lanterns.count(7)\n",
    "count_8 = lanterns.count(8)\n",
    "#creating the test set of 2500 days\n",
    "for x in range (0,2500):\n",
    "    #subtract 1 from each \n",
    "    temp = count_0\n",
    "    count_0 = count_1\n",
    "    count_1 = count_2\n",
    "    count_2 = count_3\n",
    "    count_3 = count_4\n",
    "    count_4 = count_5\n",
    "    count_5 = count_6\n",
    "    count_6 = count_7\n",
    "    count_7 = count_8\n",
    "    count_8 = temp\n",
    "    count_6 += temp\n",
    "    sum_day = count_0 + count_1 + count_2 + count_3 + count_4 + count_5 + count_6 + count_7 + count_8\n",
    "    value_days.append(sum_day)\n",
    "train_set = pd.DataFrame(value_days)\n",
    "train_set[\"Values\"] = value_days\n",
    "train_set.reset_index(inplace = True)\n",
    "train_set.drop(train_set.columns[1], axis = 1, inplace = True)\n",
    "train_set.set_index(\"index\", inplace = True)\n",
    "train_set.head(25)\n"
   ]
  },
  {
   "cell_type": "code",
   "execution_count": 8,
   "id": "eef271f6",
   "metadata": {},
   "outputs": [
    {
     "data": {
      "text/html": [
       "<div>\n",
       "<style scoped>\n",
       "    .dataframe tbody tr th:only-of-type {\n",
       "        vertical-align: middle;\n",
       "    }\n",
       "\n",
       "    .dataframe tbody tr th {\n",
       "        vertical-align: top;\n",
       "    }\n",
       "\n",
       "    .dataframe thead th {\n",
       "        text-align: right;\n",
       "    }\n",
       "</style>\n",
       "<table border=\"1\" class=\"dataframe\">\n",
       "  <thead>\n",
       "    <tr style=\"text-align: right;\">\n",
       "      <th></th>\n",
       "      <th>Values</th>\n",
       "      <th>Increase</th>\n",
       "      <th>Lagged Increase</th>\n",
       "    </tr>\n",
       "    <tr>\n",
       "      <th>index</th>\n",
       "      <th></th>\n",
       "      <th></th>\n",
       "      <th></th>\n",
       "    </tr>\n",
       "  </thead>\n",
       "  <tbody>\n",
       "    <tr>\n",
       "      <th>0</th>\n",
       "      <td>300</td>\n",
       "      <td>0.000000</td>\n",
       "      <td>0.000000</td>\n",
       "    </tr>\n",
       "    <tr>\n",
       "      <th>1</th>\n",
       "      <td>415</td>\n",
       "      <td>38.333333</td>\n",
       "      <td>0.000000</td>\n",
       "    </tr>\n",
       "    <tr>\n",
       "      <th>2</th>\n",
       "      <td>467</td>\n",
       "      <td>12.530120</td>\n",
       "      <td>38.333333</td>\n",
       "    </tr>\n",
       "    <tr>\n",
       "      <th>3</th>\n",
       "      <td>514</td>\n",
       "      <td>10.064240</td>\n",
       "      <td>12.530120</td>\n",
       "    </tr>\n",
       "    <tr>\n",
       "      <th>4</th>\n",
       "      <td>563</td>\n",
       "      <td>9.533074</td>\n",
       "      <td>10.064240</td>\n",
       "    </tr>\n",
       "  </tbody>\n",
       "</table>\n",
       "</div>"
      ],
      "text/plain": [
       "      Values   Increase  Lagged Increase\n",
       "index                                   \n",
       "0        300   0.000000         0.000000\n",
       "1        415  38.333333         0.000000\n",
       "2        467  12.530120        38.333333\n",
       "3        514  10.064240        12.530120\n",
       "4        563   9.533074        10.064240"
      ]
     },
     "execution_count": 8,
     "metadata": {},
     "output_type": "execute_result"
    }
   ],
   "source": [
    "train_set[\"Increase\"] = train_set.Values.pct_change() *100\n",
    "train_set[\"Lagged Increase\"] = train_set.Increase.shift()\n",
    "train_set.fillna(0, inplace = True)\n",
    "train_set.head()"
   ]
  },
  {
   "cell_type": "code",
   "execution_count": 9,
   "id": "5d13437e",
   "metadata": {},
   "outputs": [],
   "source": [
    "train = train_set\n",
    "test = df_test"
   ]
  },
  {
   "cell_type": "code",
   "execution_count": 10,
   "id": "d1332fd5",
   "metadata": {},
   "outputs": [],
   "source": [
    "X_train = train[\"Lagged Increase\"].to_frame()\n",
    "X_test = test[\"Lagged_Increase\"].to_frame()\n",
    "y_train = train[\"Increase\"].to_frame()\n",
    "y_test = test[\"Generated_Increase\"].to_frame()\n"
   ]
  },
  {
   "cell_type": "code",
   "execution_count": 11,
   "id": "37312935",
   "metadata": {},
   "outputs": [
    {
     "data": {
      "text/plain": [
       "LinearRegression()"
      ]
     },
     "execution_count": 11,
     "metadata": {},
     "output_type": "execute_result"
    }
   ],
   "source": [
    "model = LinearRegression()\n",
    "model.fit(X_train, y_train)"
   ]
  },
  {
   "cell_type": "code",
   "execution_count": 12,
   "id": "94abc63e",
   "metadata": {},
   "outputs": [],
   "source": [
    "predictions = model.predict(X_test)\n",
    "Results = y_test\n",
    "Results[\"Predicted Increase\"] = predictions"
   ]
  },
  {
   "cell_type": "code",
   "execution_count": 13,
   "id": "095d226e",
   "metadata": {},
   "outputs": [
    {
     "data": {
      "text/html": [
       "<div>\n",
       "<style scoped>\n",
       "    .dataframe tbody tr th:only-of-type {\n",
       "        vertical-align: middle;\n",
       "    }\n",
       "\n",
       "    .dataframe tbody tr th {\n",
       "        vertical-align: top;\n",
       "    }\n",
       "\n",
       "    .dataframe thead th {\n",
       "        text-align: right;\n",
       "    }\n",
       "</style>\n",
       "<table border=\"1\" class=\"dataframe\">\n",
       "  <thead>\n",
       "    <tr style=\"text-align: right;\">\n",
       "      <th></th>\n",
       "      <th>Generated_Increase</th>\n",
       "      <th>Predicted Increase</th>\n",
       "    </tr>\n",
       "    <tr>\n",
       "      <th>index</th>\n",
       "      <th></th>\n",
       "      <th></th>\n",
       "    </tr>\n",
       "  </thead>\n",
       "  <tbody>\n",
       "    <tr>\n",
       "      <th>0</th>\n",
       "      <td>0.000000</td>\n",
       "      <td>11.400310</td>\n",
       "    </tr>\n",
       "    <tr>\n",
       "      <th>1</th>\n",
       "      <td>9.433962</td>\n",
       "      <td>11.400310</td>\n",
       "    </tr>\n",
       "    <tr>\n",
       "      <th>2</th>\n",
       "      <td>9.961686</td>\n",
       "      <td>9.029824</td>\n",
       "    </tr>\n",
       "    <tr>\n",
       "      <th>3</th>\n",
       "      <td>10.627178</td>\n",
       "      <td>8.897222</td>\n",
       "    </tr>\n",
       "    <tr>\n",
       "      <th>4</th>\n",
       "      <td>11.023622</td>\n",
       "      <td>8.730003</td>\n",
       "    </tr>\n",
       "    <tr>\n",
       "      <th>...</th>\n",
       "      <td>...</td>\n",
       "      <td>...</td>\n",
       "    </tr>\n",
       "    <tr>\n",
       "      <th>275</th>\n",
       "      <td>9.162368</td>\n",
       "      <td>9.112609</td>\n",
       "    </tr>\n",
       "    <tr>\n",
       "      <th>276</th>\n",
       "      <td>8.991051</td>\n",
       "      <td>9.098068</td>\n",
       "    </tr>\n",
       "    <tr>\n",
       "      <th>277</th>\n",
       "      <td>9.247276</td>\n",
       "      <td>9.141115</td>\n",
       "    </tr>\n",
       "    <tr>\n",
       "      <th>278</th>\n",
       "      <td>8.947421</td>\n",
       "      <td>9.076733</td>\n",
       "    </tr>\n",
       "    <tr>\n",
       "      <th>279</th>\n",
       "      <td>9.243995</td>\n",
       "      <td>9.152078</td>\n",
       "    </tr>\n",
       "  </tbody>\n",
       "</table>\n",
       "<p>280 rows × 2 columns</p>\n",
       "</div>"
      ],
      "text/plain": [
       "       Generated_Increase  Predicted Increase\n",
       "index                                        \n",
       "0                0.000000           11.400310\n",
       "1                9.433962           11.400310\n",
       "2                9.961686            9.029824\n",
       "3               10.627178            8.897222\n",
       "4               11.023622            8.730003\n",
       "...                   ...                 ...\n",
       "275              9.162368            9.112609\n",
       "276              8.991051            9.098068\n",
       "277              9.247276            9.141115\n",
       "278              8.947421            9.076733\n",
       "279              9.243995            9.152078\n",
       "\n",
       "[280 rows x 2 columns]"
      ]
     },
     "execution_count": 13,
     "metadata": {},
     "output_type": "execute_result"
    }
   ],
   "source": [
    "Results"
   ]
  },
  {
   "cell_type": "code",
   "execution_count": 14,
   "id": "dbc6fb15",
   "metadata": {},
   "outputs": [
    {
     "data": {
      "text/plain": [
       "array([<AxesSubplot:xlabel='index'>, <AxesSubplot:xlabel='index'>],\n",
       "      dtype=object)"
      ]
     },
     "execution_count": 14,
     "metadata": {},
     "output_type": "execute_result"
    },
    {
     "data": {
      "image/png": "[encoded data removed]",
      "text/plain": [
       "<Figure size 432x288 with 2 Axes>"
      ]
     },
     "metadata": {
      "needs_background": "light"
     },
     "output_type": "display_data"
    }
   ],
   "source": [
    "Results[:2000].plot(subplots=True)"
   ]
  },
  {
   "cell_type": "code",
   "execution_count": 15,
   "id": "a2c01bf5",
   "metadata": {},
   "outputs": [
    {
     "data": {
      "text/plain": [
       "<AxesSubplot:xlabel='index'>"
      ]
     },
     "execution_count": 15,
     "metadata": {},
     "output_type": "execute_result"
    },
    {
     "data": {
      "image/png": "[encoded data removed]",
      "text/plain": [
       "<Figure size 432x288 with 1 Axes>"
      ]
     },
     "metadata": {
      "needs_background": "light"
     },
     "output_type": "display_data"
    }
   ],
   "source": [
    "Results[:2000].plot()"
   ]
  },
  {
   "cell_type": "code",
   "execution_count": 16,
   "id": "7b352a3e",
   "metadata": {},
   "outputs": [
    {
     "name": "stdout",
     "output_type": "stream",
     "text": [
      "Out-of-Sample Root Mean Squared Error (RMSE): 1.0375792544274989\n"
     ]
    }
   ],
   "source": [
    "from sklearn.metrics import mean_squared_error, r2_score\n",
    "# Calculate the mean_squared_error (MSE) on actual versus predicted test \"y\" \n",
    "mse = mean_squared_error(\n",
    "    Results[\"Generated_Increase\"],\n",
    "    Results[\"Predicted Increase\"]\n",
    ")\n",
    "\n",
    "# Using that mean-squared-error, calculate the root-mean-squared error (RMSE):\n",
    "rmse = np.sqrt(mse)\n",
    "print(f\"Out-of-Sample Root Mean Squared Error (RMSE): {rmse}\")"
   ]
  },
  {
   "cell_type": "code",
   "execution_count": 17,
   "id": "5e4c9337",
   "metadata": {},
   "outputs": [
    {
     "name": "stdout",
     "output_type": "stream",
     "text": [
      "In-sample Root Mean Squared Error (RMSE): 0.9312530070060396\n"
     ]
    }
   ],
   "source": [
    "# Construct a dataframe using just the \"y\" training data:\n",
    "in_sample_results = y_train\n",
    "\n",
    "# Add a column of \"in-sample\" predictions to that DataFrame:  \n",
    "in_sample_results[\"In-sample Predictions\"] = model.predict(X_train)\n",
    "\n",
    "# Calculate in-sample mean_squared_error (for comparison to out-of-sample)\n",
    "in_sample_mse = mean_squared_error(\n",
    "    in_sample_results[\"Increase\"],\n",
    "    in_sample_results[\"In-sample Predictions\"]\n",
    ")\n",
    "\n",
    "# Calculate in-sample root mean_squared_error (for comparison to out-of-sample)\n",
    "in_sample_rmse = np.sqrt(in_sample_mse)\n",
    "print(f\"In-sample Root Mean Squared Error (RMSE): {in_sample_rmse}\")"
   ]
  },
  {
   "cell_type": "code",
   "execution_count": 18,
   "id": "f247f0df",
   "metadata": {},
   "outputs": [
    {
     "data": {
      "text/html": [
       "<div>\n",
       "<style scoped>\n",
       "    .dataframe tbody tr th:only-of-type {\n",
       "        vertical-align: middle;\n",
       "    }\n",
       "\n",
       "    .dataframe tbody tr th {\n",
       "        vertical-align: top;\n",
       "    }\n",
       "\n",
       "    .dataframe thead th {\n",
       "        text-align: right;\n",
       "    }\n",
       "</style>\n",
       "<table border=\"1\" class=\"dataframe\">\n",
       "  <thead>\n",
       "    <tr style=\"text-align: right;\">\n",
       "      <th></th>\n",
       "      <th>Increase</th>\n",
       "      <th>In-sample Predictions</th>\n",
       "    </tr>\n",
       "    <tr>\n",
       "      <th>index</th>\n",
       "      <th></th>\n",
       "      <th></th>\n",
       "    </tr>\n",
       "  </thead>\n",
       "  <tbody>\n",
       "    <tr>\n",
       "      <th>0</th>\n",
       "      <td>0.000000</td>\n",
       "      <td>11.400310</td>\n",
       "    </tr>\n",
       "    <tr>\n",
       "      <th>1</th>\n",
       "      <td>38.333333</td>\n",
       "      <td>11.400310</td>\n",
       "    </tr>\n",
       "    <tr>\n",
       "      <th>2</th>\n",
       "      <td>12.530120</td>\n",
       "      <td>1.768233</td>\n",
       "    </tr>\n",
       "    <tr>\n",
       "      <th>3</th>\n",
       "      <td>10.064240</td>\n",
       "      <td>8.251847</td>\n",
       "    </tr>\n",
       "    <tr>\n",
       "      <th>4</th>\n",
       "      <td>9.533074</td>\n",
       "      <td>8.871453</td>\n",
       "    </tr>\n",
       "    <tr>\n",
       "      <th>...</th>\n",
       "      <td>...</td>\n",
       "      <td>...</td>\n",
       "    </tr>\n",
       "    <tr>\n",
       "      <th>2495</th>\n",
       "      <td>9.102447</td>\n",
       "      <td>9.113124</td>\n",
       "    </tr>\n",
       "    <tr>\n",
       "      <th>2496</th>\n",
       "      <td>9.102447</td>\n",
       "      <td>9.113124</td>\n",
       "    </tr>\n",
       "    <tr>\n",
       "      <th>2497</th>\n",
       "      <td>9.102447</td>\n",
       "      <td>9.113124</td>\n",
       "    </tr>\n",
       "    <tr>\n",
       "      <th>2498</th>\n",
       "      <td>9.102447</td>\n",
       "      <td>9.113124</td>\n",
       "    </tr>\n",
       "    <tr>\n",
       "      <th>2499</th>\n",
       "      <td>9.102447</td>\n",
       "      <td>9.113124</td>\n",
       "    </tr>\n",
       "  </tbody>\n",
       "</table>\n",
       "<p>2500 rows × 2 columns</p>\n",
       "</div>"
      ],
      "text/plain": [
       "        Increase  In-sample Predictions\n",
       "index                                  \n",
       "0       0.000000              11.400310\n",
       "1      38.333333              11.400310\n",
       "2      12.530120               1.768233\n",
       "3      10.064240               8.251847\n",
       "4       9.533074               8.871453\n",
       "...          ...                    ...\n",
       "2495    9.102447               9.113124\n",
       "2496    9.102447               9.113124\n",
       "2497    9.102447               9.113124\n",
       "2498    9.102447               9.113124\n",
       "2499    9.102447               9.113124\n",
       "\n",
       "[2500 rows x 2 columns]"
      ]
     },
     "execution_count": 18,
     "metadata": {},
     "output_type": "execute_result"
    }
   ],
   "source": [
    "in_sample_results"
   ]
  },
  {
   "cell_type": "code",
   "execution_count": 19,
   "id": "f8679150",
   "metadata": {},
   "outputs": [],
   "source": [
    "train[\"Value Difference\"] = train[\"Values\"].diff()\n",
    "train.fillna(0,inplace = True)"
   ]
  },
  {
   "cell_type": "code",
   "execution_count": 20,
   "id": "cb0a2fd6",
   "metadata": {},
   "outputs": [
    {
     "data": {
      "text/html": [
       "<div>\n",
       "<style scoped>\n",
       "    .dataframe tbody tr th:only-of-type {\n",
       "        vertical-align: middle;\n",
       "    }\n",
       "\n",
       "    .dataframe tbody tr th {\n",
       "        vertical-align: top;\n",
       "    }\n",
       "\n",
       "    .dataframe thead th {\n",
       "        text-align: right;\n",
       "    }\n",
       "</style>\n",
       "<table border=\"1\" class=\"dataframe\">\n",
       "  <thead>\n",
       "    <tr style=\"text-align: right;\">\n",
       "      <th></th>\n",
       "      <th>Values</th>\n",
       "      <th>Increase</th>\n",
       "      <th>Lagged Increase</th>\n",
       "      <th>Value Difference</th>\n",
       "    </tr>\n",
       "    <tr>\n",
       "      <th>index</th>\n",
       "      <th></th>\n",
       "      <th></th>\n",
       "      <th></th>\n",
       "      <th></th>\n",
       "    </tr>\n",
       "  </thead>\n",
       "  <tbody>\n",
       "    <tr>\n",
       "      <th>0</th>\n",
       "      <td>300</td>\n",
       "      <td>0.000000</td>\n",
       "      <td>0.000000</td>\n",
       "      <td>0</td>\n",
       "    </tr>\n",
       "    <tr>\n",
       "      <th>1</th>\n",
       "      <td>415</td>\n",
       "      <td>38.333333</td>\n",
       "      <td>0.000000</td>\n",
       "      <td>115</td>\n",
       "    </tr>\n",
       "    <tr>\n",
       "      <th>2</th>\n",
       "      <td>467</td>\n",
       "      <td>12.530120</td>\n",
       "      <td>38.333333</td>\n",
       "      <td>52</td>\n",
       "    </tr>\n",
       "    <tr>\n",
       "      <th>3</th>\n",
       "      <td>514</td>\n",
       "      <td>10.064240</td>\n",
       "      <td>12.530120</td>\n",
       "      <td>47</td>\n",
       "    </tr>\n",
       "    <tr>\n",
       "      <th>4</th>\n",
       "      <td>563</td>\n",
       "      <td>9.533074</td>\n",
       "      <td>10.064240</td>\n",
       "      <td>49</td>\n",
       "    </tr>\n",
       "    <tr>\n",
       "      <th>...</th>\n",
       "      <td>...</td>\n",
       "      <td>...</td>\n",
       "      <td>...</td>\n",
       "      <td>...</td>\n",
       "    </tr>\n",
       "    <tr>\n",
       "      <th>2495</th>\n",
       "      <td>9213336276330578726237693854577772905604372255...</td>\n",
       "      <td>9.102447</td>\n",
       "      <td>9.102447</td>\n",
       "      <td>7686711697121311904038457600072227067708345037...</td>\n",
       "    </tr>\n",
       "    <tr>\n",
       "      <th>2496</th>\n",
       "      <td>1005197533225015986693612973858223664240149788...</td>\n",
       "      <td>9.102447</td>\n",
       "      <td>9.102447</td>\n",
       "      <td>8386390559195811406984358840044637367971256256...</td>\n",
       "    </tr>\n",
       "    <tr>\n",
       "      <th>2497</th>\n",
       "      <td>1096695106414900700475426731503727356269186696...</td>\n",
       "      <td>9.102447</td>\n",
       "      <td>9.102447</td>\n",
       "      <td>9149757318988471378181375764550369202903690867...</td>\n",
       "    </tr>\n",
       "    <tr>\n",
       "      <th>2498</th>\n",
       "      <td>1196521197755486120128525501199546473478582891...</td>\n",
       "      <td>9.102447</td>\n",
       "      <td>9.102447</td>\n",
       "      <td>9982609134058541965309876969581911720939619443...</td>\n",
       "    </tr>\n",
       "    <tr>\n",
       "      <th>2499</th>\n",
       "      <td>1305433906200084891013180950345145814626818221...</td>\n",
       "      <td>9.102447</td>\n",
       "      <td>9.102447</td>\n",
       "      <td>1089127084445987708846554491455993411482353304...</td>\n",
       "    </tr>\n",
       "  </tbody>\n",
       "</table>\n",
       "<p>2500 rows × 4 columns</p>\n",
       "</div>"
      ],
      "text/plain": [
       "                                                  Values   Increase  \\\n",
       "index                                                                 \n",
       "0                                                    300   0.000000   \n",
       "1                                                    415  38.333333   \n",
       "2                                                    467  12.530120   \n",
       "3                                                    514  10.064240   \n",
       "4                                                    563   9.533074   \n",
       "...                                                  ...        ...   \n",
       "2495   9213336276330578726237693854577772905604372255...   9.102447   \n",
       "2496   1005197533225015986693612973858223664240149788...   9.102447   \n",
       "2497   1096695106414900700475426731503727356269186696...   9.102447   \n",
       "2498   1196521197755486120128525501199546473478582891...   9.102447   \n",
       "2499   1305433906200084891013180950345145814626818221...   9.102447   \n",
       "\n",
       "       Lagged Increase                                   Value Difference  \n",
       "index                                                                      \n",
       "0             0.000000                                                  0  \n",
       "1             0.000000                                                115  \n",
       "2            38.333333                                                 52  \n",
       "3            12.530120                                                 47  \n",
       "4            10.064240                                                 49  \n",
       "...                ...                                                ...  \n",
       "2495          9.102447  7686711697121311904038457600072227067708345037...  \n",
       "2496          9.102447  8386390559195811406984358840044637367971256256...  \n",
       "2497          9.102447  9149757318988471378181375764550369202903690867...  \n",
       "2498          9.102447  9982609134058541965309876969581911720939619443...  \n",
       "2499          9.102447  1089127084445987708846554491455993411482353304...  \n",
       "\n",
       "[2500 rows x 4 columns]"
      ]
     },
     "execution_count": 20,
     "metadata": {},
     "output_type": "execute_result"
    }
   ],
   "source": [
    "train"
   ]
  },
  {
   "cell_type": "code",
   "execution_count": 21,
   "id": "e5f7d09a",
   "metadata": {},
   "outputs": [],
   "source": [
    "test[\"Generated Difference\"] = test[\"Generated_Values\"].diff()\n",
    "test.fillna(0,inplace = True)"
   ]
  },
  {
   "cell_type": "code",
   "execution_count": 22,
   "id": "9a2e33c1",
   "metadata": {},
   "outputs": [
    {
     "data": {
      "text/html": [
       "<div>\n",
       "<style scoped>\n",
       "    .dataframe tbody tr th:only-of-type {\n",
       "        vertical-align: middle;\n",
       "    }\n",
       "\n",
       "    .dataframe tbody tr th {\n",
       "        vertical-align: top;\n",
       "    }\n",
       "\n",
       "    .dataframe thead th {\n",
       "        text-align: right;\n",
       "    }\n",
       "</style>\n",
       "<table border=\"1\" class=\"dataframe\">\n",
       "  <thead>\n",
       "    <tr style=\"text-align: right;\">\n",
       "      <th></th>\n",
       "      <th>Generated_Values</th>\n",
       "      <th>Predicted Values</th>\n",
       "    </tr>\n",
       "    <tr>\n",
       "      <th>index</th>\n",
       "      <th></th>\n",
       "      <th></th>\n",
       "    </tr>\n",
       "  </thead>\n",
       "  <tbody>\n",
       "    <tr>\n",
       "      <th>0</th>\n",
       "      <td>477</td>\n",
       "      <td>1141.338217</td>\n",
       "    </tr>\n",
       "    <tr>\n",
       "      <th>1</th>\n",
       "      <td>522</td>\n",
       "      <td>1574.464006</td>\n",
       "    </tr>\n",
       "    <tr>\n",
       "      <th>2</th>\n",
       "      <td>574</td>\n",
       "      <td>1641.839128</td>\n",
       "    </tr>\n",
       "    <tr>\n",
       "      <th>3</th>\n",
       "      <td>635</td>\n",
       "      <td>1728.464286</td>\n",
       "    </tr>\n",
       "    <tr>\n",
       "      <th>4</th>\n",
       "      <td>705</td>\n",
       "      <td>1815.089444</td>\n",
       "    </tr>\n",
       "    <tr>\n",
       "      <th>5</th>\n",
       "      <td>750</td>\n",
       "      <td>1574.464006</td>\n",
       "    </tr>\n",
       "    <tr>\n",
       "      <th>6</th>\n",
       "      <td>800</td>\n",
       "      <td>1622.589093</td>\n",
       "    </tr>\n",
       "    <tr>\n",
       "      <th>7</th>\n",
       "      <td>877</td>\n",
       "      <td>1882.464567</td>\n",
       "    </tr>\n",
       "    <tr>\n",
       "      <th>8</th>\n",
       "      <td>922</td>\n",
       "      <td>1574.464006</td>\n",
       "    </tr>\n",
       "    <tr>\n",
       "      <th>9</th>\n",
       "      <td>1051</td>\n",
       "      <td>2382.965478</td>\n",
       "    </tr>\n",
       "    <tr>\n",
       "      <th>10</th>\n",
       "      <td>1157</td>\n",
       "      <td>2161.590075</td>\n",
       "    </tr>\n",
       "    <tr>\n",
       "      <th>11</th>\n",
       "      <td>1279</td>\n",
       "      <td>2315.590356</td>\n",
       "    </tr>\n",
       "    <tr>\n",
       "      <th>12</th>\n",
       "      <td>1385</td>\n",
       "      <td>2161.590075</td>\n",
       "    </tr>\n",
       "    <tr>\n",
       "      <th>13</th>\n",
       "      <td>1505</td>\n",
       "      <td>2296.340321</td>\n",
       "    </tr>\n",
       "    <tr>\n",
       "      <th>14</th>\n",
       "      <td>1627</td>\n",
       "      <td>2315.590356</td>\n",
       "    </tr>\n",
       "    <tr>\n",
       "      <th>15</th>\n",
       "      <td>1722</td>\n",
       "      <td>2055.714882</td>\n",
       "    </tr>\n",
       "    <tr>\n",
       "      <th>16</th>\n",
       "      <td>1928</td>\n",
       "      <td>3124.091829</td>\n",
       "    </tr>\n",
       "    <tr>\n",
       "      <th>17</th>\n",
       "      <td>2079</td>\n",
       "      <td>2594.715864</td>\n",
       "    </tr>\n",
       "    <tr>\n",
       "      <th>18</th>\n",
       "      <td>2330</td>\n",
       "      <td>3557.217618</td>\n",
       "    </tr>\n",
       "    <tr>\n",
       "      <th>19</th>\n",
       "      <td>2542</td>\n",
       "      <td>3181.841934</td>\n",
       "    </tr>\n",
       "    <tr>\n",
       "      <th>20</th>\n",
       "      <td>2784</td>\n",
       "      <td>3470.592460</td>\n",
       "    </tr>\n",
       "    <tr>\n",
       "      <th>21</th>\n",
       "      <td>3012</td>\n",
       "      <td>3335.842214</td>\n",
       "    </tr>\n",
       "    <tr>\n",
       "      <th>22</th>\n",
       "      <td>3227</td>\n",
       "      <td>3210.716986</td>\n",
       "    </tr>\n",
       "    <tr>\n",
       "      <th>23</th>\n",
       "      <td>3555</td>\n",
       "      <td>4298.343968</td>\n",
       "    </tr>\n",
       "    <tr>\n",
       "      <th>24</th>\n",
       "      <td>3801</td>\n",
       "      <td>3509.092530</td>\n",
       "    </tr>\n",
       "    <tr>\n",
       "      <th>25</th>\n",
       "      <td>4258</td>\n",
       "      <td>5539.971230</td>\n",
       "    </tr>\n",
       "    <tr>\n",
       "      <th>26</th>\n",
       "      <td>4621</td>\n",
       "      <td>4635.219581</td>\n",
       "    </tr>\n",
       "    <tr>\n",
       "      <th>27</th>\n",
       "      <td>5114</td>\n",
       "      <td>5886.471861</td>\n",
       "    </tr>\n",
       "    <tr>\n",
       "      <th>28</th>\n",
       "      <td>5554</td>\n",
       "      <td>5376.345931</td>\n",
       "    </tr>\n",
       "    <tr>\n",
       "      <th>29</th>\n",
       "      <td>6011</td>\n",
       "      <td>5539.971230</td>\n",
       "    </tr>\n",
       "    <tr>\n",
       "      <th>30</th>\n",
       "      <td>6567</td>\n",
       "      <td>6492.847965</td>\n",
       "    </tr>\n",
       "    <tr>\n",
       "      <th>31</th>\n",
       "      <td>7028</td>\n",
       "      <td>5578.471300</td>\n",
       "    </tr>\n",
       "    <tr>\n",
       "      <th>32</th>\n",
       "      <td>7813</td>\n",
       "      <td>8696.976981</td>\n",
       "    </tr>\n",
       "    <tr>\n",
       "      <th>33</th>\n",
       "      <td>8422</td>\n",
       "      <td>7002.973895</td>\n",
       "    </tr>\n",
       "    <tr>\n",
       "      <th>34</th>\n",
       "      <td>9372</td>\n",
       "      <td>10285.104874</td>\n",
       "    </tr>\n",
       "    <tr>\n",
       "      <th>35</th>\n",
       "      <td>10175</td>\n",
       "      <td>8870.227296</td>\n",
       "    </tr>\n",
       "    <tr>\n",
       "      <th>36</th>\n",
       "      <td>11125</td>\n",
       "      <td>10285.104874</td>\n",
       "    </tr>\n",
       "    <tr>\n",
       "      <th>37</th>\n",
       "      <td>12121</td>\n",
       "      <td>10727.855680</td>\n",
       "    </tr>\n",
       "    <tr>\n",
       "      <th>38</th>\n",
       "      <td>13039</td>\n",
       "      <td>9977.104313</td>\n",
       "    </tr>\n",
       "    <tr>\n",
       "      <th>39</th>\n",
       "      <td>14380</td>\n",
       "      <td>14048.486729</td>\n",
       "    </tr>\n",
       "    <tr>\n",
       "      <th>40</th>\n",
       "      <td>15450</td>\n",
       "      <td>11440.106978</td>\n",
       "    </tr>\n",
       "    <tr>\n",
       "      <th>41</th>\n",
       "      <td>17185</td>\n",
       "      <td>17840.743638</td>\n",
       "    </tr>\n",
       "    <tr>\n",
       "      <th>42</th>\n",
       "      <td>18597</td>\n",
       "      <td>14731.862974</td>\n",
       "    </tr>\n",
       "    <tr>\n",
       "      <th>43</th>\n",
       "      <td>20497</td>\n",
       "      <td>19428.871531</td>\n",
       "    </tr>\n",
       "    <tr>\n",
       "      <th>44</th>\n",
       "      <td>22296</td>\n",
       "      <td>18456.744760</td>\n",
       "    </tr>\n",
       "    <tr>\n",
       "      <th>45</th>\n",
       "      <td>24164</td>\n",
       "      <td>19120.870970</td>\n",
       "    </tr>\n",
       "    <tr>\n",
       "      <th>46</th>\n",
       "      <td>26501</td>\n",
       "      <td>23635.004193</td>\n",
       "    </tr>\n",
       "    <tr>\n",
       "      <th>47</th>\n",
       "      <td>28489</td>\n",
       "      <td>20275.873074</td>\n",
       "    </tr>\n",
       "    <tr>\n",
       "      <th>48</th>\n",
       "      <td>31565</td>\n",
       "      <td>30747.892151</td>\n",
       "    </tr>\n",
       "    <tr>\n",
       "      <th>49</th>\n",
       "      <td>34047</td>\n",
       "      <td>25030.631735</td>\n",
       "    </tr>\n",
       "  </tbody>\n",
       "</table>\n",
       "</div>"
      ],
      "text/plain": [
       "       Generated_Values  Predicted Values\n",
       "index                                    \n",
       "0                   477       1141.338217\n",
       "1                   522       1574.464006\n",
       "2                   574       1641.839128\n",
       "3                   635       1728.464286\n",
       "4                   705       1815.089444\n",
       "5                   750       1574.464006\n",
       "6                   800       1622.589093\n",
       "7                   877       1882.464567\n",
       "8                   922       1574.464006\n",
       "9                  1051       2382.965478\n",
       "10                 1157       2161.590075\n",
       "11                 1279       2315.590356\n",
       "12                 1385       2161.590075\n",
       "13                 1505       2296.340321\n",
       "14                 1627       2315.590356\n",
       "15                 1722       2055.714882\n",
       "16                 1928       3124.091829\n",
       "17                 2079       2594.715864\n",
       "18                 2330       3557.217618\n",
       "19                 2542       3181.841934\n",
       "20                 2784       3470.592460\n",
       "21                 3012       3335.842214\n",
       "22                 3227       3210.716986\n",
       "23                 3555       4298.343968\n",
       "24                 3801       3509.092530\n",
       "25                 4258       5539.971230\n",
       "26                 4621       4635.219581\n",
       "27                 5114       5886.471861\n",
       "28                 5554       5376.345931\n",
       "29                 6011       5539.971230\n",
       "30                 6567       6492.847965\n",
       "31                 7028       5578.471300\n",
       "32                 7813       8696.976981\n",
       "33                 8422       7002.973895\n",
       "34                 9372      10285.104874\n",
       "35                10175       8870.227296\n",
       "36                11125      10285.104874\n",
       "37                12121      10727.855680\n",
       "38                13039       9977.104313\n",
       "39                14380      14048.486729\n",
       "40                15450      11440.106978\n",
       "41                17185      17840.743638\n",
       "42                18597      14731.862974\n",
       "43                20497      19428.871531\n",
       "44                22296      18456.744760\n",
       "45                24164      19120.870970\n",
       "46                26501      23635.004193\n",
       "47                28489      20275.873074\n",
       "48                31565      30747.892151\n",
       "49                34047      25030.631735"
      ]
     },
     "execution_count": 22,
     "metadata": {},
     "output_type": "execute_result"
    }
   ],
   "source": [
    "X_train = train[\"Value Difference\"].iloc[0:50].to_frame()\n",
    "X_test = test[\"Generated Difference\"].iloc[0:50].to_frame()\n",
    "y_train = train[\"Values\"].iloc[0:50].to_frame()\n",
    "y_test = test[\"Generated_Values\"].iloc[0:50].to_frame()\n",
    "model = LinearRegression()\n",
    "model.fit(X_train, y_train)\n",
    "predictions = model.predict(X_test)\n",
    "Results = y_test\n",
    "Results[\"Predicted Values\"] = predictions\n",
    "Results"
   ]
  },
  {
   "cell_type": "code",
   "execution_count": 23,
   "id": "64d0229e",
   "metadata": {},
   "outputs": [
    {
     "data": {
      "text/plain": [
       "array([<AxesSubplot:xlabel='index'>, <AxesSubplot:xlabel='index'>],\n",
       "      dtype=object)"
      ]
     },
     "execution_count": 23,
     "metadata": {},
     "output_type": "execute_result"
    },
    {
     "data": {
      "image/png": "[encoded data removed]",
      "text/plain": [
       "<Figure size 432x288 with 2 Axes>"
      ]
     },
     "metadata": {
      "needs_background": "light"
     },
     "output_type": "display_data"
    }
   ],
   "source": [
    "Results[:2000].plot(subplots=True)"
   ]
  },
  {
   "cell_type": "code",
   "execution_count": 24,
   "id": "88b50d92",
   "metadata": {},
   "outputs": [
    {
     "name": "stdin",
     "output_type": "stream",
     "text": [
      "number 125\n"
     ]
    },
    {
     "data": {
      "image/png": "[encoded data removed]",
      "text/plain": [
       "<Figure size 432x288 with 2 Axes>"
      ]
     },
     "metadata": {
      "needs_background": "light"
     },
     "output_type": "display_data"
    },
    {
     "data": {
      "image/png": "[encoded data removed]",
      "text/plain": [
       "<Figure size 432x288 with 3 Axes>"
      ]
     },
     "metadata": {
      "needs_background": "light"
     },
     "output_type": "display_data"
    }
   ],
   "source": [
    "x = input(\"number\")\n",
    "x = int(x)\n",
    "X_train = train[\"Value Difference\"].iloc[0:x].to_frame()\n",
    "X_test = test[\"Generated Difference\"].iloc[0:x].to_frame()\n",
    "y_train = train[\"Values\"].iloc[0:x].to_frame()\n",
    "y_test = test[\"Generated_Values\"].iloc[0:x].to_frame()\n",
    "model = LinearRegression()\n",
    "model.fit(X_train, y_train)\n",
    "predictions = model.predict(X_test)\n",
    "Results = y_test\n",
    "Results[\"Predicted Values\"] = predictions\n",
    "Results[:2000].plot(subplots=True)\n",
    "Results[\"Difference\"] = Results.apply(lambda x: x[\"Generated_Values\"] - x[\"Predicted Values\"], axis =1) \n",
    "Results[\"Difference\"].plot()\n",
    "Results[:2000].plot(subplots=True)\n",
    "Results[\"Difference\"] = Results.apply(lambda x: x[\"Generated_Values\"] - x[\"Predicted Values\"], axis =1) \n",
    "graph = Results[\"Difference\"].plot()\n",
    "#saving figures for powerpoint\n",
    "#graph.figure.savefig('diff.png')"
   ]
  },
  {
   "cell_type": "markdown",
   "id": "15247343",
   "metadata": {},
   "source": [
    "#### Naive Bayes Model"
   ]
  },
  {
   "cell_type": "code",
   "execution_count": 25,
   "id": "5b47a93b",
   "metadata": {},
   "outputs": [],
   "source": [
    "from sklearn.model_selection import train_test_split\n",
    "from sklearn.naive_bayes import GaussianNB"
   ]
  },
  {
   "cell_type": "code",
   "execution_count": 26,
   "id": "e58b21b2",
   "metadata": {},
   "outputs": [],
   "source": [
    "X_train = train[\"Value Difference\"].iloc[0:100].values.reshape(-1,1)\n",
    "X_test = test[\"Generated Difference\"].iloc[0:100].values.reshape(-1,1)\n",
    "y_train = train[\"Values\"].iloc[0:100].values.reshape(-1,1)\n",
    "y_test = test[\"Generated_Values\"].iloc[0:100].values.reshape(-1,1)"
   ]
  },
  {
   "cell_type": "code",
   "execution_count": 27,
   "id": "4f5e7063",
   "metadata": {},
   "outputs": [],
   "source": [
    "#y_test = y_test.reshape(80)\n",
    "#X_test = X_test.reshape(80)\n",
    "#y_train = y_train.reshape(2500)\n",
    "#y_test = y_test.reshape(80)\n",
    "X_train=X_train.astype('int')\n",
    "X_test = X_test.astype(\"int\")\n",
    "y_train = y_train.astype(\"int\")\n",
    "y_test = y_test.astype(\"int\")"
   ]
  },
  {
   "cell_type": "code",
   "execution_count": 28,
   "id": "2937ce6b",
   "metadata": {},
   "outputs": [],
   "source": [
    "gnb = GaussianNB()"
   ]
  },
  {
   "cell_type": "code",
   "execution_count": 29,
   "id": "169b498d",
   "metadata": {},
   "outputs": [
    {
     "name": "stderr",
     "output_type": "stream",
     "text": [
      "C:\\Users\\PC\\anaconda3\\envs\\pyvizend\\lib\\site-packages\\sklearn\\utils\\validation.py:63: DataConversionWarning: A column-vector y was passed when a 1d array was expected. Please change the shape of y to (n_samples, ), for example using ravel().\n",
      "  return f(*args, **kwargs)\n"
     ]
    }
   ],
   "source": [
    "y_pred = gnb.fit(X_train, y_train).predict(X_test)"
   ]
  },
  {
   "cell_type": "code",
   "execution_count": 30,
   "id": "daa1da9e",
   "metadata": {},
   "outputs": [],
   "source": [
    "Results_NB = pd.DataFrame(y_pred)"
   ]
  },
  {
   "cell_type": "code",
   "execution_count": 31,
   "id": "de43ea84",
   "metadata": {},
   "outputs": [
    {
     "data": {
      "text/plain": [
       "<AxesSubplot:>"
      ]
     },
     "execution_count": 31,
     "metadata": {},
     "output_type": "execute_result"
    },
    {
     "data": {
      "image/png": "[encoded data removed]",
      "text/plain": [
       "<Figure size 432x288 with 3 Axes>"
      ]
     },
     "metadata": {
      "needs_background": "light"
     },
     "output_type": "display_data"
    },
    {
     "data": {
      "image/png": "[encoded data removed]",
      "text/plain": [
       "<Figure size 432x288 with 1 Axes>"
      ]
     },
     "metadata": {
      "needs_background": "light"
     },
     "output_type": "display_data"
    }
   ],
   "source": [
    "Results[:2000].plot(subplots=True)\n",
    "Results[\"Difference\"] = Results.apply(lambda x: x[\"Generated_Values\"] - x[\"Predicted Values\"], axis =1) \n",
    "Results[\"Difference\"].plot()\n",
    "Results_NB.plot()"
   ]
  },
  {
   "cell_type": "markdown",
   "id": "c24bd9bd",
   "metadata": {},
   "source": [
    "#### Tensor Flow"
   ]
  },
  {
   "cell_type": "code",
   "execution_count": 32,
   "id": "067a85b0",
   "metadata": {},
   "outputs": [],
   "source": [
    "def window_data(df, window, feature_col_number, target_col_number):\n",
    "    \"\"\"\n",
    "    This function accepts the column number for the features (X) and the target (y).\n",
    "    It chunks the data up with a rolling window of Xt - window to predict Xt.\n",
    "    It returns two numpy arrays of X and y.\n",
    "    \"\"\"\n",
    "    X = []\n",
    "    y = []\n",
    "    for i in range(len(df) - window):\n",
    "        features = df.iloc[i : (i + window), feature_col_number]\n",
    "        target = df.iloc[(i + window), target_col_number]\n",
    "        X.append(features)\n",
    "        y.append(target)\n",
    "    return np.array(X), np.array(y).reshape(-1, 1)"
   ]
  },
  {
   "cell_type": "code",
   "execution_count": 33,
   "id": "5c5f8a8f",
   "metadata": {},
   "outputs": [
    {
     "data": {
      "text/html": [
       "<div>\n",
       "<style scoped>\n",
       "    .dataframe tbody tr th:only-of-type {\n",
       "        vertical-align: middle;\n",
       "    }\n",
       "\n",
       "    .dataframe tbody tr th {\n",
       "        vertical-align: top;\n",
       "    }\n",
       "\n",
       "    .dataframe thead th {\n",
       "        text-align: right;\n",
       "    }\n",
       "</style>\n",
       "<table border=\"1\" class=\"dataframe\">\n",
       "  <thead>\n",
       "    <tr style=\"text-align: right;\">\n",
       "      <th></th>\n",
       "      <th>Values</th>\n",
       "      <th>Increase</th>\n",
       "      <th>Lagged Increase</th>\n",
       "      <th>Value Difference</th>\n",
       "    </tr>\n",
       "    <tr>\n",
       "      <th>index</th>\n",
       "      <th></th>\n",
       "      <th></th>\n",
       "      <th></th>\n",
       "      <th></th>\n",
       "    </tr>\n",
       "  </thead>\n",
       "  <tbody>\n",
       "    <tr>\n",
       "      <th>0</th>\n",
       "      <td>300</td>\n",
       "      <td>0.000000</td>\n",
       "      <td>0.000000</td>\n",
       "      <td>0</td>\n",
       "    </tr>\n",
       "    <tr>\n",
       "      <th>1</th>\n",
       "      <td>415</td>\n",
       "      <td>38.333333</td>\n",
       "      <td>0.000000</td>\n",
       "      <td>115</td>\n",
       "    </tr>\n",
       "    <tr>\n",
       "      <th>2</th>\n",
       "      <td>467</td>\n",
       "      <td>12.530120</td>\n",
       "      <td>38.333333</td>\n",
       "      <td>52</td>\n",
       "    </tr>\n",
       "    <tr>\n",
       "      <th>3</th>\n",
       "      <td>514</td>\n",
       "      <td>10.064240</td>\n",
       "      <td>12.530120</td>\n",
       "      <td>47</td>\n",
       "    </tr>\n",
       "    <tr>\n",
       "      <th>4</th>\n",
       "      <td>563</td>\n",
       "      <td>9.533074</td>\n",
       "      <td>10.064240</td>\n",
       "      <td>49</td>\n",
       "    </tr>\n",
       "    <tr>\n",
       "      <th>...</th>\n",
       "      <td>...</td>\n",
       "      <td>...</td>\n",
       "      <td>...</td>\n",
       "      <td>...</td>\n",
       "    </tr>\n",
       "    <tr>\n",
       "      <th>2495</th>\n",
       "      <td>9213336276330578726237693854577772905604372255...</td>\n",
       "      <td>9.102447</td>\n",
       "      <td>9.102447</td>\n",
       "      <td>7686711697121311904038457600072227067708345037...</td>\n",
       "    </tr>\n",
       "    <tr>\n",
       "      <th>2496</th>\n",
       "      <td>1005197533225015986693612973858223664240149788...</td>\n",
       "      <td>9.102447</td>\n",
       "      <td>9.102447</td>\n",
       "      <td>8386390559195811406984358840044637367971256256...</td>\n",
       "    </tr>\n",
       "    <tr>\n",
       "      <th>2497</th>\n",
       "      <td>1096695106414900700475426731503727356269186696...</td>\n",
       "      <td>9.102447</td>\n",
       "      <td>9.102447</td>\n",
       "      <td>9149757318988471378181375764550369202903690867...</td>\n",
       "    </tr>\n",
       "    <tr>\n",
       "      <th>2498</th>\n",
       "      <td>1196521197755486120128525501199546473478582891...</td>\n",
       "      <td>9.102447</td>\n",
       "      <td>9.102447</td>\n",
       "      <td>9982609134058541965309876969581911720939619443...</td>\n",
       "    </tr>\n",
       "    <tr>\n",
       "      <th>2499</th>\n",
       "      <td>1305433906200084891013180950345145814626818221...</td>\n",
       "      <td>9.102447</td>\n",
       "      <td>9.102447</td>\n",
       "      <td>1089127084445987708846554491455993411482353304...</td>\n",
       "    </tr>\n",
       "  </tbody>\n",
       "</table>\n",
       "<p>2500 rows × 4 columns</p>\n",
       "</div>"
      ],
      "text/plain": [
       "                                                  Values   Increase  \\\n",
       "index                                                                 \n",
       "0                                                    300   0.000000   \n",
       "1                                                    415  38.333333   \n",
       "2                                                    467  12.530120   \n",
       "3                                                    514  10.064240   \n",
       "4                                                    563   9.533074   \n",
       "...                                                  ...        ...   \n",
       "2495   9213336276330578726237693854577772905604372255...   9.102447   \n",
       "2496   1005197533225015986693612973858223664240149788...   9.102447   \n",
       "2497   1096695106414900700475426731503727356269186696...   9.102447   \n",
       "2498   1196521197755486120128525501199546473478582891...   9.102447   \n",
       "2499   1305433906200084891013180950345145814626818221...   9.102447   \n",
       "\n",
       "       Lagged Increase                                   Value Difference  \n",
       "index                                                                      \n",
       "0             0.000000                                                  0  \n",
       "1             0.000000                                                115  \n",
       "2            38.333333                                                 52  \n",
       "3            12.530120                                                 47  \n",
       "4            10.064240                                                 49  \n",
       "...                ...                                                ...  \n",
       "2495          9.102447  7686711697121311904038457600072227067708345037...  \n",
       "2496          9.102447  8386390559195811406984358840044637367971256256...  \n",
       "2497          9.102447  9149757318988471378181375764550369202903690867...  \n",
       "2498          9.102447  9982609134058541965309876969581911720939619443...  \n",
       "2499          9.102447  1089127084445987708846554491455993411482353304...  \n",
       "\n",
       "[2500 rows x 4 columns]"
      ]
     },
     "execution_count": 33,
     "metadata": {},
     "output_type": "execute_result"
    }
   ],
   "source": [
    "#train = train.iloc[0:150] <- using this changes the final results from infinity to 0\n",
    "train"
   ]
  },
  {
   "cell_type": "code",
   "execution_count": 34,
   "id": "7271587a",
   "metadata": {},
   "outputs": [
    {
     "name": "stdout",
     "output_type": "stream",
     "text": [
      "X sample values:\n",
      "[[300]\n",
      " [415]\n",
      " [467]\n",
      " [514]\n",
      " [563]] \n",
      "\n",
      "y sample values:\n",
      "[[415]\n",
      " [467]\n",
      " [514]\n",
      " [563]\n",
      " [600]]\n"
     ]
    }
   ],
   "source": [
    "window_size = 1\n",
    "\n",
    "feature_column = 0\n",
    "target_column = 0\n",
    "X, y = window_data(train, window_size, feature_column, target_column)\n",
    "print (f\"X sample values:\\n{X[:5]} \\n\")\n",
    "print (f\"y sample values:\\n{y[:5]}\")"
   ]
  },
  {
   "cell_type": "code",
   "execution_count": 35,
   "id": "27ee8d27",
   "metadata": {},
   "outputs": [],
   "source": [
    "split = int(0.5 * len(X))\n",
    "X_train = X[: split]\n",
    "X_test = X[split:]\n",
    "y_train = y[: split]\n",
    "y_test = y[split:]"
   ]
  },
  {
   "cell_type": "code",
   "execution_count": 36,
   "id": "670f052d",
   "metadata": {},
   "outputs": [],
   "source": [
    "scaler = MinMaxScaler()\n",
    "scaler.fit(X)\n",
    "X_train = scaler.transform(X_train)\n",
    "X_test = scaler.transform(X_test)\n",
    "scaler.fit(y)\n",
    "y_train = scaler.transform(y_train)\n",
    "y_test = scaler.transform(y_test)\n"
   ]
  },
  {
   "cell_type": "code",
   "execution_count": 37,
   "id": "98a901bf",
   "metadata": {},
   "outputs": [
    {
     "name": "stdout",
     "output_type": "stream",
     "text": [
      "X sample values:\n",
      "[[300]\n",
      " [415]\n",
      " [467]\n",
      " [514]\n",
      " [563]] \n",
      "\n",
      "y sample values:\n",
      "[[415]\n",
      " [467]\n",
      " [514]\n",
      " [563]\n",
      " [600]]\n"
     ]
    }
   ],
   "source": [
    "window_size = 1\n",
    "\n",
    "feature_column = 0\n",
    "target_column = 0\n",
    "X, y = window_data(train, window_size, feature_column, target_column)\n",
    "print (f\"X sample values:\\n{X[:5]} \\n\")\n",
    "print (f\"y sample values:\\n{y[:5]}\")"
   ]
  },
  {
   "cell_type": "code",
   "execution_count": 38,
   "id": "4c45839d",
   "metadata": {},
   "outputs": [],
   "source": [
    "X_train = X\n",
    "X_test = test[\"Generated_Values\"].values.reshape(-1,1)\n",
    "y_train = y\n",
    "y_test = test[\"Generated_Values\"].values.reshape(-1,1)"
   ]
  },
  {
   "cell_type": "code",
   "execution_count": 39,
   "id": "dd5b8855",
   "metadata": {},
   "outputs": [],
   "source": [
    "scaler = MinMaxScaler()\n",
    "scaler.fit(X)\n",
    "X_train = scaler.transform(X_train)\n",
    "X_test = scaler.transform(X_test)\n",
    "scaler.fit(y)\n",
    "y_train = scaler.transform(y_train)\n",
    "y_test = scaler.transform(y_test)\n"
   ]
  },
  {
   "cell_type": "code",
   "execution_count": 40,
   "id": "afdebcad",
   "metadata": {},
   "outputs": [
    {
     "name": "stdout",
     "output_type": "stream",
     "text": [
      "X_train sample values:\n",
      "[[[0.00000000e+00]]\n",
      "\n",
      " [[9.61119621e-96]]\n",
      "\n",
      " [[1.39571284e-95]]\n",
      "\n",
      " [[1.78851825e-95]]\n",
      "\n",
      " [[2.19803879e-95]]] \n",
      "\n",
      "X_test sample values:\n",
      "[[[1.47928846e-95]]\n",
      "\n",
      " [[1.85537875e-95]]\n",
      "\n",
      " [[2.28997197e-95]]\n",
      "\n",
      " [[2.79978324e-95]]\n",
      "\n",
      " [[3.38481258e-95]]]\n"
     ]
    }
   ],
   "source": [
    "X_train = X_train.reshape((X_train.shape[0], X_train.shape[1], 1))\n",
    "X_test = X_test.reshape((X_test.shape[0], X_test.shape[1], 1))\n",
    "print (f\"X_train sample values:\\n{X_train[:5]} \\n\")\n",
    "print (f\"X_test sample values:\\n{X_test[:5]}\")"
   ]
  },
  {
   "cell_type": "code",
   "execution_count": 41,
   "id": "4e4f235f",
   "metadata": {},
   "outputs": [],
   "source": [
    "model = Sequential()\n",
    "\n",
    "number_units = 5\n",
    "dropout_fraction = 0.2\n",
    "\n",
    "# Layer 1\n",
    "model.add(LSTM(\n",
    "    units=number_units,\n",
    "    return_sequences=True,\n",
    "    input_shape=(X_train.shape[1], 1))\n",
    "    )\n",
    "model.add(Dropout(dropout_fraction))\n",
    "\n",
    "# Layer 2\n",
    "model.add(LSTM(units=number_units, return_sequences=True))\n",
    "model.add(Dropout(dropout_fraction))\n",
    "\n",
    "# Layer 3\n",
    "model.add(LSTM(units=number_units))\n",
    "model.add(Dropout(dropout_fraction))\n",
    "\n",
    "# Output layer\n",
    "model.add(Dense(1))"
   ]
  },
  {
   "cell_type": "code",
   "execution_count": 42,
   "id": "db511696",
   "metadata": {},
   "outputs": [],
   "source": [
    "model.compile(optimizer=\"adam\", loss=\"mean_squared_error\")"
   ]
  },
  {
   "cell_type": "code",
   "execution_count": 43,
   "id": "bea5944c",
   "metadata": {},
   "outputs": [
    {
     "name": "stdout",
     "output_type": "stream",
     "text": [
      "Model: \"sequential\"\n",
      "_________________________________________________________________\n",
      " Layer (type)                Output Shape              Param #   \n",
      "=================================================================\n",
      " lstm (LSTM)                 (None, 1, 5)              140       \n",
      "                                                                 \n",
      " dropout (Dropout)           (None, 1, 5)              0         \n",
      "                                                                 \n",
      " lstm_1 (LSTM)               (None, 1, 5)              220       \n",
      "                                                                 \n",
      " dropout_1 (Dropout)         (None, 1, 5)              0         \n",
      "                                                                 \n",
      " lstm_2 (LSTM)               (None, 5)                 220       \n",
      "                                                                 \n",
      " dropout_2 (Dropout)         (None, 5)                 0         \n",
      "                                                                 \n",
      " dense (Dense)               (None, 1)                 6         \n",
      "                                                                 \n",
      "=================================================================\n",
      "Total params: 586\n",
      "Trainable params: 586\n",
      "Non-trainable params: 0\n",
      "_________________________________________________________________\n"
     ]
    }
   ],
   "source": [
    "model.summary()"
   ]
  },
  {
   "cell_type": "code",
   "execution_count": 44,
   "id": "a3c90bba",
   "metadata": {},
   "outputs": [
    {
     "name": "stdout",
     "output_type": "stream",
     "text": [
      "Epoch 1/10\n",
      "2499/2499 [==============================] - 6s 1ms/step - loss: 4.8630e-04\n",
      "Epoch 2/10\n",
      "2499/2499 [==============================] - 4s 1ms/step - loss: 0.0037\n",
      "Epoch 3/10\n",
      "2499/2499 [==============================] - 4s 1ms/step - loss: 0.0023\n",
      "Epoch 4/10\n",
      "2499/2499 [==============================] - 4s 1ms/step - loss: 0.0022A:\n",
      "Epoch 5/10\n",
      "2499/2499 [==============================] - 4s 1ms/step - loss: 0.0019\n",
      "Epoch 6/10\n",
      "2499/2499 [==============================] - 4s 1ms/step - loss: 0.0013\n",
      "Epoch 7/10\n",
      "2499/2499 [==============================] - 4s 1ms/step - loss: 0.0011\n",
      "Epoch 8/10\n",
      "2499/2499 [==============================] - 4s 1ms/step - loss: 6.2861e-04\n",
      "Epoch 9/10\n",
      "2499/2499 [==============================] - 4s 1ms/step - loss: 4.8839e-04\n",
      "Epoch 10/10\n",
      "2499/2499 [==============================] - 4s 1ms/step - loss: 6.0755e-04\n"
     ]
    },
    {
     "data": {
      "text/plain": [
       "<keras.callbacks.History at 0x2d307c34e08>"
      ]
     },
     "execution_count": 44,
     "metadata": {},
     "output_type": "execute_result"
    }
   ],
   "source": [
    "model.fit(X_train, y_train, epochs=10, shuffle=False, batch_size=1, verbose=1)"
   ]
  },
  {
   "cell_type": "code",
   "execution_count": 45,
   "id": "89375e3e",
   "metadata": {},
   "outputs": [
    {
     "name": "stdout",
     "output_type": "stream",
     "text": [
      "9/9 [==============================] - 1s 1ms/step - loss: 0.0063\n"
     ]
    },
    {
     "data": {
      "text/plain": [
       "0.006342434324324131"
      ]
     },
     "execution_count": 45,
     "metadata": {},
     "output_type": "execute_result"
    }
   ],
   "source": [
    "model.evaluate(X_test, y_test)"
   ]
  },
  {
   "cell_type": "code",
   "execution_count": 46,
   "id": "6c9063c2",
   "metadata": {},
   "outputs": [],
   "source": [
    "predicted = model.predict(X_test)"
   ]
  },
  {
   "cell_type": "code",
   "execution_count": 47,
   "id": "b106c8ca",
   "metadata": {},
   "outputs": [
    {
     "name": "stderr",
     "output_type": "stream",
     "text": [
      "C:\\Users\\PC\\anaconda3\\envs\\pyvizend\\lib\\site-packages\\sklearn\\preprocessing\\_data.py:462: RuntimeWarning: overflow encountered in true_divide\n",
      "  X /= self.scale_\n"
     ]
    }
   ],
   "source": [
    "predicted_values = scaler.inverse_transform(predicted)\n",
    "real_values = scaler.inverse_transform(y_test.reshape(-1, 1))"
   ]
  },
  {
   "cell_type": "code",
   "execution_count": 48,
   "id": "a256cce2",
   "metadata": {},
   "outputs": [
    {
     "data": {
      "text/html": [
       "<div>\n",
       "<style scoped>\n",
       "    .dataframe tbody tr th:only-of-type {\n",
       "        vertical-align: middle;\n",
       "    }\n",
       "\n",
       "    .dataframe tbody tr th {\n",
       "        vertical-align: top;\n",
       "    }\n",
       "\n",
       "    .dataframe thead th {\n",
       "        text-align: right;\n",
       "    }\n",
       "</style>\n",
       "<table border=\"1\" class=\"dataframe\">\n",
       "  <thead>\n",
       "    <tr style=\"text-align: right;\">\n",
       "      <th></th>\n",
       "      <th>Real</th>\n",
       "      <th>Predicted</th>\n",
       "    </tr>\n",
       "  </thead>\n",
       "  <tbody>\n",
       "    <tr>\n",
       "      <th>0</th>\n",
       "      <td>477.0</td>\n",
       "      <td>inf</td>\n",
       "    </tr>\n",
       "    <tr>\n",
       "      <th>1</th>\n",
       "      <td>522.0</td>\n",
       "      <td>inf</td>\n",
       "    </tr>\n",
       "    <tr>\n",
       "      <th>2</th>\n",
       "      <td>574.0</td>\n",
       "      <td>inf</td>\n",
       "    </tr>\n",
       "    <tr>\n",
       "      <th>3</th>\n",
       "      <td>635.0</td>\n",
       "      <td>inf</td>\n",
       "    </tr>\n",
       "    <tr>\n",
       "      <th>4</th>\n",
       "      <td>705.0</td>\n",
       "      <td>inf</td>\n",
       "    </tr>\n",
       "  </tbody>\n",
       "</table>\n",
       "</div>"
      ],
      "text/plain": [
       "    Real  Predicted\n",
       "0  477.0        inf\n",
       "1  522.0        inf\n",
       "2  574.0        inf\n",
       "3  635.0        inf\n",
       "4  705.0        inf"
      ]
     },
     "execution_count": 48,
     "metadata": {},
     "output_type": "execute_result"
    }
   ],
   "source": [
    "values = pd.DataFrame({\n",
    "    \"Real\": real_values.ravel(),\n",
    "    \"Predicted\": predicted_values.ravel()\n",
    "    })\n",
    "values.head()"
   ]
  },
  {
   "cell_type": "code",
   "execution_count": 49,
   "id": "83551b12",
   "metadata": {},
   "outputs": [
    {
     "data": {
      "image/png": "[encoded data removed]",
      "text/plain": [
       "<Figure size 432x288 with 1 Axes>"
      ]
     },
     "metadata": {
      "needs_background": "light"
     },
     "output_type": "display_data"
    }
   ],
   "source": [
    "plot = values.plot()\n",
    "#plot.figure.savefig(\"plot.png\") this saved the figure"
   ]
  }
 ],
 "metadata": {
  "kernelspec": {
   "display_name": "Python 3",
   "language": "python",
   "name": "python3"
  },
  "language_info": {
   "codemirror_mode": {
    "name": "ipython",
    "version": 3
   },
   "file_extension": ".py",
   "mimetype": "text/x-python",
   "name": "python",
   "nbconvert_exporter": "python",
   "pygments_lexer": "ipython3",
   "version": "3.7.10"
  }
 },
 "nbformat": 4,
 "nbformat_minor": 5
}
